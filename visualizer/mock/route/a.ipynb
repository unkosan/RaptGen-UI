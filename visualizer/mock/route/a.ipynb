{
 "cells": [
  {
   "cell_type": "code",
   "execution_count": 6,
   "metadata": {},
   "outputs": [],
   "source": [
    "import random\n",
    "import csv\n",
    "\n",
    "def generate_data():\n",
    "    with open('./data.csv', 'w') as f:\n",
    "        writer = csv.writer(f)\n",
    "        writer.writerow(['sequence', 'x', 'y', 'duplicate'])\n",
    "        for i in range(5000):\n",
    "            sequence = ''.join([random.choice(['A', 'U', 'G', 'C']) for _ in range(15)])\n",
    "            writer.writerow([sequence, random.normalvariate(0, 1), random.normalvariate(0, 1), random.choice(range(9)) + 1])\n",
    "    return\n",
    "\n",
    "generate_data()"
   ]
  },
  {
   "cell_type": "code",
   "execution_count": 5,
   "metadata": {},
   "outputs": [],
   "source": [
    "def generate_loss():\n",
    "    with open('./loss.csv', 'w') as f:\n",
    "        writer = csv.writer(f)\n",
    "        writer.writerow(['epoch', 'train_loss', 'test_loss', 'test_recon', 'test_kld'])\n",
    "        for i in range(500):\n",
    "            writer.writerow([i, random.normalvariate(0, 1), random.normalvariate(0, 1), random.normalvariate(0, 1), random.normalvariate(0, 1)])\n",
    "    return\n",
    "\n",
    "generate_loss()"
   ]
  },
  {
   "cell_type": "code",
   "execution_count": null,
   "metadata": {},
   "outputs": [],
   "source": []
  }
 ],
 "metadata": {
  "kernelspec": {
   "display_name": "backend",
   "language": "python",
   "name": "python3"
  },
  "language_info": {
   "codemirror_mode": {
    "name": "ipython",
    "version": 3
   },
   "file_extension": ".py",
   "mimetype": "text/x-python",
   "name": "python",
   "nbconvert_exporter": "python",
   "pygments_lexer": "ipython3",
   "version": "3.10.10"
  },
  "orig_nbformat": 4
 },
 "nbformat": 4,
 "nbformat_minor": 2
}
